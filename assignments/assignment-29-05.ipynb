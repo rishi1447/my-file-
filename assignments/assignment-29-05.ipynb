{
 "cells": [
  {
   "cell_type": "markdown",
   "metadata": {},
   "source": [
    "## rishi-221710402047-ece\n",
    "### assignment-3(29-05-2020)\n"
   ]
  },
  {
   "cell_type": "code",
   "execution_count": 57,
   "metadata": {},
   "outputs": [
    {
     "name": "stdout",
     "output_type": "stream",
     "text": [
      "enter the number : 5\n",
      "120\n"
     ]
    }
   ],
   "source": [
    "def fac(a):\n",
    "    if a==1:\n",
    "        return 1\n",
    "    else:\n",
    "        return a*fac(a-1)\n",
    "a1=int(input('enter the number : '))\n",
    "print(fac(a1))"
   ]
  },
  {
   "cell_type": "code",
   "execution_count": 58,
   "metadata": {},
   "outputs": [
    {
     "name": "stdout",
     "output_type": "stream",
     "text": [
      "enter the no. :5\n",
      "Fibonacci sequence:\n",
      "0 1 1 2 3 "
     ]
    }
   ],
   "source": [
    "def fib(n):\n",
    "    if n <= 1:\n",
    "        return n\n",
    "    else:\n",
    "        return(fib(n-1) + fib(n-2))\n",
    "\n",
    "a=int(input(\"enter the no. :\"))\n",
    "\n",
    "if a <= 0:\n",
    "    print(\"Plese enter a positive integer\")\n",
    "else:\n",
    "    print(\"Fibonacci sequence:\")\n",
    "    for i in range(a):\n",
    "        print(fib(i),end=' ')"
   ]
  },
  {
   "cell_type": "code",
   "execution_count": 59,
   "metadata": {},
   "outputs": [
    {
     "name": "stdout",
     "output_type": "stream",
     "text": [
      "6\n"
     ]
    }
   ],
   "source": [
    "l1=[1,2,3]\n",
    "s=0\n",
    "for i in range (len(l1)):\n",
    "    s=s+l1[i]\n",
    "print(s)"
   ]
  },
  {
   "cell_type": "code",
   "execution_count": 60,
   "metadata": {},
   "outputs": [
    {
     "name": "stdout",
     "output_type": "stream",
     "text": [
      "2\n",
      "4\n",
      "6\n",
      "0\n"
     ]
    }
   ],
   "source": [
    "l1=[1,2,3,4,5,6,7,0]\n",
    "for i in range (len(l1)):\n",
    "    if l1[i]%2==0:\n",
    "        print(l1[i])"
   ]
  },
  {
   "cell_type": "code",
   "execution_count": 61,
   "metadata": {},
   "outputs": [
    {
     "name": "stdout",
     "output_type": "stream",
     "text": [
      "0 index is : 7\n"
     ]
    }
   ],
   "source": [
    "a=l1[1]\n",
    "for i in range (len(l1)):\n",
    "    if  a>l1[i]:\n",
    "        small=l1[i]\n",
    "        index=i\n",
    "        \n",
    "        \n",
    "print(small,'index is :',index)"
   ]
  },
  {
   "cell_type": "code",
   "execution_count": 62,
   "metadata": {},
   "outputs": [
    {
     "name": "stdout",
     "output_type": "stream",
     "text": [
      "enter the number121\n",
      "palindrome\n"
     ]
    }
   ],
   "source": [
    "def pal(n):\n",
    "    n1=str(n)\n",
    "    if n1==n1[::-1]:\n",
    "        return 'palindrome'\n",
    "    else:\n",
    "        return 'not a palindrome'\n",
    "a=int(input('enter the number'))\n",
    "print(pal(a))"
   ]
  },
  {
   "cell_type": "code",
   "execution_count": 63,
   "metadata": {},
   "outputs": [
    {
     "name": "stdout",
     "output_type": "stream",
     "text": [
      "there are 4  numbers\n",
      "and\n",
      "5  odd numbers\n"
     ]
    }
   ],
   "source": [
    "def eo(n):\n",
    "    if n%2==0:\n",
    "        return 1\n",
    "    else:\n",
    "        return 0\n",
    "\n",
    "l=[1,2,3,4,5,6,7,8,9]\n",
    "even=0\n",
    "odd=0\n",
    "for i in range (len(l)):\n",
    "    if eo(l[i])==1:\n",
    "        even=even+1\n",
    "    else:\n",
    "        odd=odd+1\n",
    "print('there are',even,' numbers')\n",
    "print('and')\n",
    "print(odd,' odd numbers')\n"
   ]
  },
  {
   "cell_type": "code",
   "execution_count": 64,
   "metadata": {},
   "outputs": [
    {
     "name": "stdout",
     "output_type": "stream",
     "text": [
      "0 1 2 4 5 "
     ]
    }
   ],
   "source": [
    "\n",
    "for i in range (7):\n",
    "    if i%3==0 and i!=0:\n",
    "        continue\n",
    "    else:\n",
    "        print(i,end=' ')"
   ]
  },
  {
   "cell_type": "code",
   "execution_count": 66,
   "metadata": {},
   "outputs": [
    {
     "name": "stdout",
     "output_type": "stream",
     "text": [
      "enter the number : 10\n",
      "not a prime\n"
     ]
    }
   ],
   "source": [
    "def prime(a1):\n",
    "    c=0\n",
    "    for i in range (1,a+1):\n",
    "        if a%i==0:\n",
    "            c=c+1\n",
    "    if c==2:\n",
    "        return \"prime\"\n",
    "    else:\n",
    "        return 'not a prime'\n",
    "a=int(input('enter the number : '))\n",
    "print(prime(a))\n",
    "        "
   ]
  },
  {
   "cell_type": "code",
   "execution_count": 67,
   "metadata": {},
   "outputs": [
    {
     "name": "stdout",
     "output_type": "stream",
     "text": [
      "enter the number : 12\n",
      "adam\n"
     ]
    }
   ],
   "source": [
    "def adam(a):\n",
    "    a1=a*a\n",
    "    a2=str(a)\n",
    "    b=int(a2[::-1])\n",
    "    a3=b*b\n",
    "    a4=str(a3)\n",
    "    \n",
    "    if a1==int(a4[::-1]):\n",
    "        return 'adam'\n",
    "    else:\n",
    "        return 'not an adam'\n",
    "n=int(input('enter the number : '))\n",
    "print(adam(n))"
   ]
  },
  {
   "cell_type": "code",
   "execution_count": null,
   "metadata": {},
   "outputs": [],
   "source": []
  }
 ],
 "metadata": {
  "kernelspec": {
   "display_name": "Python 3",
   "language": "python",
   "name": "python3"
  },
  "language_info": {
   "codemirror_mode": {
    "name": "ipython",
    "version": 3
   },
   "file_extension": ".py",
   "mimetype": "text/x-python",
   "name": "python",
   "nbconvert_exporter": "python",
   "pygments_lexer": "ipython3",
   "version": "3.7.6"
  }
 },
 "nbformat": 4,
 "nbformat_minor": 4
}
